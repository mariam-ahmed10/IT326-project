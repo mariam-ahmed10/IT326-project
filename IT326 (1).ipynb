{
  "metadata": {
    "kernelspec": {
      "name": "python",
      "display_name": "Python (Pyodide)",
      "language": "python"
    },
    "language_info": {
      "codemirror_mode": {
        "name": "python",
        "version": 3
      },
      "file_extension": ".py",
      "mimetype": "text/x-python",
      "name": "python",
      "nbconvert_exporter": "python",
      "pygments_lexer": "ipython3",
      "version": "3.8"
    }
  },
  "nbformat_minor": 4,
  "nbformat": 4,
  "cells": [
    {
      "cell_type": "code",
      "source": "import pandas as pd\ndata = pd.read_csv('Expanded_data_with_more_features.csv')\ndata.info()",
      "metadata": {
        "trusted": true
      },
      "outputs": [
        {
          "name": "stdout",
          "text": "<class 'pandas.core.frame.DataFrame'>\nRangeIndex: 30641 entries, 0 to 30640\nData columns (total 15 columns):\n #   Column               Non-Null Count  Dtype  \n---  ------               --------------  -----  \n 0   Unnamed: 0           30641 non-null  int64  \n 1   Gender               30641 non-null  object \n 2   EthnicGroup          28801 non-null  object \n 3   ParentEduc           28796 non-null  object \n 4   LunchType            30641 non-null  object \n 5   TestPrep             28811 non-null  object \n 6   ParentMaritalStatus  29451 non-null  object \n 7   PracticeSport        30010 non-null  object \n 8   IsFirstChild         29737 non-null  object \n 9   NrSiblings           29069 non-null  float64\n 10  TransportMeans       27507 non-null  object \n 11  WklyStudyHours       29686 non-null  object \n 12  MathScore            30641 non-null  int64  \n 13  ReadingScore         30641 non-null  int64  \n 14  WritingScore         30641 non-null  int64  \ndtypes: float64(1), int64(4), object(10)\nmemory usage: 2.3+ MB\n",
          "output_type": "stream"
        }
      ],
      "execution_count": 2
    },
    {
      "cell_type": "code",
      "source": "\"\"\"  The aim of this project is to study students grades and classify them under specific categories such as Excellent, Good, and Satisfactory,\nwhile discovering the factors that affect them using data mining techniques. Data mining algorithms will be applied to extract patterns \nand relationships between students' grades and various factors, aiming to identify the main influences on academic performance.",
      "metadata": {
        "trusted": true
      },
      "outputs": [],
      "execution_count": null
    },
    {
      "cell_type": "code",
      "source": "## The source of the dataset https://www.kaggle.com/datasets/desalegngeb/students-exam-scores",
      "metadata": {
        "trusted": true
      },
      "outputs": [],
      "execution_count": 5
    },
    {
      "cell_type": "code",
      "source": "rows, columns = data.shape\nprint(f\"number of rows : {rows}, number of columns : {columns}\")\nprint(\"names of attributes :\\n\", data.columns)\nprint(\"type of attributes :\\n\", data.dtypes)",
      "metadata": {
        "trusted": true
      },
      "outputs": [
        {
          "name": "stdout",
          "text": "number of rows : 30641, number of columns : 15\nnames of attributes :\n Index(['Unnamed: 0', 'Gender', 'EthnicGroup', 'ParentEduc', 'LunchType',\n       'TestPrep', 'ParentMaritalStatus', 'PracticeSport', 'IsFirstChild',\n       'NrSiblings', 'TransportMeans', 'WklyStudyHours', 'MathScore',\n       'ReadingScore', 'WritingScore'],\n      dtype='object')\ntype of attributes :\n Unnamed: 0               int64\nGender                  object\nEthnicGroup             object\nParentEduc              object\nLunchType               object\nTestPrep                object\nParentMaritalStatus     object\nPracticeSport           object\nIsFirstChild            object\nNrSiblings             float64\nTransportMeans          object\nWklyStudyHours          object\nMathScore                int64\nReadingScore             int64\nWritingScore             int64\ndtype: object\n",
          "output_type": "stream"
        }
      ],
      "execution_count": 7
    },
    {
      "cell_type": "code",
      "source": "\"\"\" General information\nnumber of columns: 15.\nnumber of rows: 30641.\ntypes of attributes:\nID - integer - float\nclass labal: Excellent, Good, Acceptable, and Fail.\n",
      "metadata": {
        "trusted": true
      },
      "outputs": [],
      "execution_count": null
    }
  ]
}