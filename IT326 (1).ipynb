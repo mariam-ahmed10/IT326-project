{
  "cells": [
    {
      "cell_type": "code",
      "execution_count": 4,
      "metadata": {
        "trusted": true
      },
      "outputs": [
        {
          "name": "stdout",
          "output_type": "stream",
          "text": [
            "<class 'pandas.core.frame.DataFrame'>\n",
            "RangeIndex: 30641 entries, 0 to 30640\n",
            "Data columns (total 15 columns):\n",
            " #   Column               Non-Null Count  Dtype  \n",
            "---  ------               --------------  -----  \n",
            " 0   Unnamed: 0           30641 non-null  int64  \n",
            " 1   Gender               30641 non-null  object \n",
            " 2   EthnicGroup          28801 non-null  object \n",
            " 3   ParentEduc           28796 non-null  object \n",
            " 4   LunchType            30641 non-null  object \n",
            " 5   TestPrep             28811 non-null  object \n",
            " 6   ParentMaritalStatus  29451 non-null  object \n",
            " 7   PracticeSport        30010 non-null  object \n",
            " 8   IsFirstChild         29737 non-null  object \n",
            " 9   NrSiblings           29069 non-null  float64\n",
            " 10  TransportMeans       27507 non-null  object \n",
            " 11  WklyStudyHours       29686 non-null  object \n",
            " 12  MathScore            30641 non-null  int64  \n",
            " 13  ReadingScore         30641 non-null  int64  \n",
            " 14  WritingScore         30641 non-null  int64  \n",
            "dtypes: float64(1), int64(4), object(10)\n",
            "memory usage: 3.5+ MB\n"
          ]
        }
      ],
      "source": [
        "import pandas as pd\n",
        "data = pd.read_csv('Expanded_data_with_more_features.csv')\n",
        "data.info()"
      ]
    },
    {
      "cell_type": "markdown",
      "metadata": {},
      "source": [
        " The aim of this project is to study students grades and classify them under specific categories such as Excellent, Good, and Satisfactory,\n",
        "while discovering the factors that affect them using data mining techniques. Data mining algorithms will be applied to extract patterns \n",
        "and relationships between students' grades and various factors, aiming to identify the main influences on academic performance."
      ]
    },
    {
      "cell_type": "markdown",
      "metadata": {},
      "source": [
        " The source of the dataset https://www.kaggle.com/datasets/desalegngeb/students-exam-scores"
      ]
    },
    {
      "cell_type": "code",
      "execution_count": 5,
      "metadata": {
        "trusted": true
      },
      "outputs": [
        {
          "name": "stdout",
          "output_type": "stream",
          "text": [
            "number of rows : 30641, number of columns : 15\n",
            "names of attributes :\n",
            " Index(['Unnamed: 0', 'Gender', 'EthnicGroup', 'ParentEduc', 'LunchType',\n",
            "       'TestPrep', 'ParentMaritalStatus', 'PracticeSport', 'IsFirstChild',\n",
            "       'NrSiblings', 'TransportMeans', 'WklyStudyHours', 'MathScore',\n",
            "       'ReadingScore', 'WritingScore'],\n",
            "      dtype='object')\n",
            "type of attributes :\n",
            " Unnamed: 0               int64\n",
            "Gender                  object\n",
            "EthnicGroup             object\n",
            "ParentEduc              object\n",
            "LunchType               object\n",
            "TestPrep                object\n",
            "ParentMaritalStatus     object\n",
            "PracticeSport           object\n",
            "IsFirstChild            object\n",
            "NrSiblings             float64\n",
            "TransportMeans          object\n",
            "WklyStudyHours          object\n",
            "MathScore                int64\n",
            "ReadingScore             int64\n",
            "WritingScore             int64\n",
            "dtype: object\n"
          ]
        }
      ],
      "source": [
        "rows, columns = data.shape\n",
        "print(f\"number of rows : {rows}, number of columns : {columns}\")\n",
        "print(\"names of attributes :\\n\", data.columns)\n",
        "print(\"type of attributes :\\n\", data.dtypes)"
      ]
    },
    {
      "cell_type": "markdown",
      "metadata": {},
      "source": [
        "## phase1\n"
      ]
    },
    {
      "cell_type": "markdown",
      "metadata": {},
      "source": [
        "General information\n",
        "\n",
        "number of columns: 15.\n",
        "\n",
        "number of rows: 30641.\n",
        "\n",
        "types of attributes:\n",
        "ID - integer - float\n",
        "\n",
        "class labal: Excellent, Good, Acceptable, and Fail.\n"
      ]
    }
  ],
  "metadata": {
    "kernelspec": {
      "display_name": "Python 3",
      "language": "python",
      "name": "python3"
    },
    "language_info": {
      "codemirror_mode": {
        "name": "ipython",
        "version": 3
      },
      "file_extension": ".py",
      "mimetype": "text/x-python",
      "name": "python",
      "nbconvert_exporter": "python",
      "pygments_lexer": "ipython3",
      "version": "3.12.1"
    }
  },
  "nbformat": 4,
  "nbformat_minor": 4
}
